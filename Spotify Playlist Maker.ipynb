{
 "cells": [
  {
   "cell_type": "markdown",
   "id": "a4519cc5",
   "metadata": {},
   "source": [
    "# Create Playlist"
   ]
  },
  {
   "cell_type": "markdown",
   "id": "124a87e0",
   "metadata": {},
   "source": [
    "Installing requests and importing the required modules."
   ]
  },
  {
   "cell_type": "code",
   "execution_count": 1,
   "id": "48ae211d",
   "metadata": {
    "scrolled": true
   },
   "outputs": [
    {
     "name": "stdout",
     "output_type": "stream",
     "text": [
      "Requirement already satisfied: requests in c:\\users\\llaur\\miniconda3\\lib\\site-packages (2.27.1)\n",
      "Requirement already satisfied: urllib3<1.27,>=1.21.1 in c:\\users\\llaur\\miniconda3\\lib\\site-packages (from requests) (1.26.8)\n",
      "Requirement already satisfied: charset-normalizer~=2.0.0 in c:\\users\\llaur\\miniconda3\\lib\\site-packages (from requests) (2.0.4)\n",
      "Requirement already satisfied: idna<4,>=2.5 in c:\\users\\llaur\\miniconda3\\lib\\site-packages (from requests) (3.3)\n",
      "Requirement already satisfied: certifi>=2017.4.17 in c:\\users\\llaur\\miniconda3\\lib\\site-packages (from requests) (2022.6.15)\n"
     ]
    }
   ],
   "source": [
    "!pip install requests"
   ]
  },
  {
   "cell_type": "code",
   "execution_count": 31,
   "id": "e73f327e",
   "metadata": {},
   "outputs": [],
   "source": [
    "import json\n",
    "import requests"
   ]
  },
  {
   "cell_type": "markdown",
   "id": "072afc85",
   "metadata": {},
   "source": [
    "Saving the credentials to variables to access them more easily:"
   ]
  },
  {
   "cell_type": "code",
   "execution_count": 42,
   "id": "a4473b17",
   "metadata": {},
   "outputs": [],
   "source": [
    "# client_id = ________\n",
    "# client_secret = _______\n",
    "# encoded_client_creds =  _______"
   ]
  },
  {
   "cell_type": "code",
   "execution_count": 17,
   "id": "d63279d5",
   "metadata": {},
   "outputs": [],
   "source": [
    "# code = obtained by running get_code.py in this repo"
   ]
  },
  {
   "cell_type": "markdown",
   "id": "3566c85b",
   "metadata": {},
   "source": [
    "Creating variables and dicts to hold request info"
   ]
  },
  {
   "cell_type": "code",
   "execution_count": 19,
   "id": "fed038c7",
   "metadata": {},
   "outputs": [],
   "source": [
    "token_url = \"https://accounts.spotify.com/api/token\"\n",
    "method = 'POST'\n",
    "token_data = {\n",
    "    'grant_type':'authorization_code',\n",
    "    'code': code,\n",
    "    'redirect_uri': 'http://127.0.0.1:5000/' # running the get_code.py program locally\n",
    "}\n",
    "token_headers = {\n",
    "    \"Authorization\": f\"Basic {encoded_client_creds}\"\n",
    "}"
   ]
  },
  {
   "cell_type": "markdown",
   "id": "2543ab70",
   "metadata": {},
   "source": [
    "Sending POST request to obtain token and saving to token_response_data"
   ]
  },
  {
   "cell_type": "code",
   "execution_count": 20,
   "id": "cbbf5b5d",
   "metadata": {
    "scrolled": false
   },
   "outputs": [
    {
     "name": "stdout",
     "output_type": "stream",
     "text": [
      "{'access_token': 'BQBzHgoWKz3ZEpyT6xh51SSHrFSmION8fsZK9op46pmWxLcgWSQxFwRcP-4mLjP_4Q0yO1b_WhPlajj8KXyuVTo7ZqOHdPapEDCkFNKLVs0HmmowOs4PBl5LMF8lAPfwapH_GzhIBOOt1Dh1t6KhhiL4g1-jjNSJHxKdRtRCkYpaDWDhHtd9NlxfgMM3ui233XrQAfxfKYtym9qUhdUeapxoUQ8U5uSslCYJU4i9IcilR5ZUwfWDAvCWH0D84NAT26k', 'token_type': 'Bearer', 'expires_in': 3600, 'refresh_token': 'AQAFOVwPv4MasyKCItsRFf7jQo97PJc5fTn52pYdy9yehGOCP01IhEgjBFDDFy0Ra7LI3rxGShZyoTiEFim9VKCw0dY5up_OdEI32O68CGYeazq9Y2L0G0sYUEidXRmtbsk', 'scope': 'playlist-modify-private playlist-modify-public'}\n"
     ]
    }
   ],
   "source": [
    "r = requests.post(token_url, data=token_data, headers=token_headers)\n",
    "print(r.json())\n",
    "token_response_data = r.json()"
   ]
  },
  {
   "cell_type": "markdown",
   "id": "777703f8",
   "metadata": {},
   "source": [
    "Verifying that the access token can be accessed"
   ]
  },
  {
   "cell_type": "code",
   "execution_count": 22,
   "id": "01690d80",
   "metadata": {},
   "outputs": [
    {
     "data": {
      "text/plain": [
       "'BQBzHgoWKz3ZEpyT6xh51SSHrFSmION8fsZK9op46pmWxLcgWSQxFwRcP-4mLjP_4Q0yO1b_WhPlajj8KXyuVTo7ZqOHdPapEDCkFNKLVs0HmmowOs4PBl5LMF8lAPfwapH_GzhIBOOt1Dh1t6KhhiL4g1-jjNSJHxKdRtRCkYpaDWDhHtd9NlxfgMM3ui233XrQAfxfKYtym9qUhdUeapxoUQ8U5uSslCYJU4i9IcilR5ZUwfWDAvCWH0D84NAT26k'"
      ]
     },
     "execution_count": 22,
     "metadata": {},
     "output_type": "execute_result"
    }
   ],
   "source": [
    "token_response_data['access_token']"
   ]
  },
  {
   "cell_type": "markdown",
   "id": "e1fb7781",
   "metadata": {},
   "source": [
    "Creating variables and dicts to hold playlist creation request info. Parameters can be found here https://developer.spotify.com/documentation/web-api/reference/create-playlist"
   ]
  },
  {
   "cell_type": "code",
   "execution_count": 27,
   "id": "f7c91677",
   "metadata": {},
   "outputs": [],
   "source": [
    "# user_id = __________\n",
    "playlist_url = f\"https://api.spotify.com/v1/users/{user_id}/playlists\"\n",
    "method = 'POST'\n",
    "token_headers = {\n",
    "    \"Authorization\": f\"Bearer {token_response_data['access_token']}\",\n",
    "    \"Content-Type\": 'application/json'\n",
    "}\n",
    "token_data = {\n",
    "    \"name\": \"New test playlist\", \n",
    "    \"description\": \"Test playlist description\", \n",
    "    \"public\": False\n",
    "}"
   ]
  },
  {
   "cell_type": "code",
   "execution_count": null,
   "id": "463b849e",
   "metadata": {},
   "outputs": [],
   "source": [
    "r = requests.post(playlist_url, data=json.dumps(token_data), headers=token_headers)\n",
    "print(r.json())\n",
    "playlist_create_response = r.json()"
   ]
  },
  {
   "cell_type": "markdown",
   "id": "92e66892",
   "metadata": {},
   "source": [
    "# Adding Songs"
   ]
  },
  {
   "cell_type": "markdown",
   "id": "2a12aa3e",
   "metadata": {},
   "source": [
    "Required parameters can be found here: https://developer.spotify.com/documentation/web-api/reference/add-tracks-to-playlist. Track ID is the string of characters obtained from right clicking a song > Share > Copy Song Link"
   ]
  },
  {
   "cell_type": "code",
   "execution_count": 39,
   "id": "4fa3fee2",
   "metadata": {},
   "outputs": [],
   "source": [
    "playlist_id = playlist_create_response['id']\n",
    "track_url = 'https://api.spotify.com/v1/playlists/0l3kgWSASnfizsRapfbzFZ/tracks?uris=spotify%3Atrack%3A12O9MpMmewwdDkxZC9uqvS'\n",
    "headers = {\n",
    "    'Authorization': F\"Bearer {token_response_data['access_token']}\",\n",
    "    'Content-Type': 'application/json'\n",
    "}\n",
    "data = {\n",
    "    'uris': ['string'],\n",
    "    \"position\": 0\n",
    "}"
   ]
  },
  {
   "cell_type": "markdown",
   "id": "7bacd5f0",
   "metadata": {},
   "source": [
    "Send a request to add \"Strange Weather\" by Slaughter Beach, Dog to this playlist"
   ]
  },
  {
   "cell_type": "code",
   "execution_count": 41,
   "id": "34a85e12",
   "metadata": {},
   "outputs": [
    {
     "name": "stdout",
     "output_type": "stream",
     "text": [
      "{'snapshot_id': 'NCxmOGY5MDAzNDFjNDA0MDNjNmUxMzU2MmFmOWZkODQzMTA5MjkxMWE0'}\n"
     ]
    }
   ],
   "source": [
    "r = requests.post(track_url, data=json.dumps(data), headers=headers)\n",
    "print(r.json())\n",
    "add_track_response = r.json()"
   ]
  },
  {
   "cell_type": "code",
   "execution_count": null,
   "id": "13726342",
   "metadata": {},
   "outputs": [],
   "source": []
  }
 ],
 "metadata": {
  "kernelspec": {
   "display_name": "Python 3 (ipykernel)",
   "language": "python",
   "name": "python3"
  },
  "language_info": {
   "codemirror_mode": {
    "name": "ipython",
    "version": 3
   },
   "file_extension": ".py",
   "mimetype": "text/x-python",
   "name": "python",
   "nbconvert_exporter": "python",
   "pygments_lexer": "ipython3",
   "version": "3.9.12"
  }
 },
 "nbformat": 4,
 "nbformat_minor": 5
}
