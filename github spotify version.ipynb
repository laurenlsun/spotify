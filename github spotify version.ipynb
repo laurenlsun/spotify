{
 "cells": [
  {
   "cell_type": "markdown",
   "id": "e8bc5dde",
   "metadata": {},
   "source": [
    "# Obtaining OAuth2 access"
   ]
  },
  {
   "cell_type": "markdown",
   "id": "6657c945",
   "metadata": {},
   "source": [
    "Installing requests and importing the required modules."
   ]
  },
  {
   "cell_type": "code",
   "execution_count": 1,
   "id": "48ae211d",
   "metadata": {
    "scrolled": true
   },
   "outputs": [
    {
     "name": "stdout",
     "output_type": "stream",
     "text": [
      "Requirement already satisfied: requests in c:\\users\\llaur\\miniconda3\\lib\\site-packages (2.27.1)\n",
      "Requirement already satisfied: certifi>=2017.4.17 in c:\\users\\llaur\\miniconda3\\lib\\site-packages (from requests) (2022.6.15)\n",
      "Requirement already satisfied: urllib3<1.27,>=1.21.1 in c:\\users\\llaur\\miniconda3\\lib\\site-packages (from requests) (1.26.8)\n",
      "Requirement already satisfied: idna<4,>=2.5 in c:\\users\\llaur\\miniconda3\\lib\\site-packages (from requests) (3.3)\n",
      "Requirement already satisfied: charset-normalizer~=2.0.0 in c:\\users\\llaur\\miniconda3\\lib\\site-packages (from requests) (2.0.4)\n"
     ]
    },
    {
     "name": "stderr",
     "output_type": "stream",
     "text": [
      "WARNING: Ignoring invalid distribution -pencv-python (c:\\users\\llaur\\miniconda3\\lib\\site-packages)\n",
      "WARNING: Ignoring invalid distribution -pencv-python (c:\\users\\llaur\\miniconda3\\lib\\site-packages)\n",
      "WARNING: Ignoring invalid distribution -pencv-python (c:\\users\\llaur\\miniconda3\\lib\\site-packages)\n",
      "WARNING: Ignoring invalid distribution -pencv-python (c:\\users\\llaur\\miniconda3\\lib\\site-packages)\n",
      "WARNING: Ignoring invalid distribution -pencv-python (c:\\users\\llaur\\miniconda3\\lib\\site-packages)\n",
      "WARNING: Ignoring invalid distribution -pencv-python (c:\\users\\llaur\\miniconda3\\lib\\site-packages)\n"
     ]
    }
   ],
   "source": [
    "!pip install requests"
   ]
  },
  {
   "cell_type": "code",
   "execution_count": 68,
   "id": "e9d3a7ee",
   "metadata": {},
   "outputs": [],
   "source": [
    "import json\n",
    "import requests\n",
    "import base64\n",
    "import pandas as pd"
   ]
  },
  {
   "cell_type": "markdown",
   "id": "6f820938",
   "metadata": {},
   "source": [
    "Saving the credentials to variables to access them more easily. These credentials are unique to each Spotify user."
   ]
  },
  {
   "cell_type": "code",
   "execution_count": 5,
   "id": "a4473b17",
   "metadata": {},
   "outputs": [],
   "source": [
    "client_id = '30daab6eacde4b04901c9c6929ed49ea'\n",
    "client_secret = 'cac7e435e9ca4af39aa9e9bd48beae1d'"
   ]
  },
  {
   "cell_type": "markdown",
   "id": "d805fb94",
   "metadata": {},
   "source": [
    "Encode the client secret using base 64 encoder online or import base64:"
   ]
  },
  {
   "cell_type": "code",
   "execution_count": 6,
   "id": "e4515f29",
   "metadata": {},
   "outputs": [],
   "source": [
    "encoded_client_creds = 'MzBkYWFiNmVhY2RlNGIwNDkwMWM5YzY5MjllZDQ5ZWE6Y2FjN2U0MzVlOWNhNGFmMzlhYTllOWJkNDhiZWFlMWQ='"
   ]
  },
  {
   "cell_type": "code",
   "execution_count": 7,
   "id": "d9c3d120",
   "metadata": {},
   "outputs": [],
   "source": [
    "auth_header = base64.urlsafe_b64encode(f'{client_id}:{client_secret}'.encode('ascii'))"
   ]
  },
  {
   "cell_type": "markdown",
   "id": "afe0b4f0",
   "metadata": {},
   "source": [
    "Obtain the code that pops up in the URL bar when running the get_code.py Flask file. Enter your client ID and client secret, click the top submit button, not the bottom one. It will redirect to the same page but with the code in the url bar."
   ]
  },
  {
   "cell_type": "code",
   "execution_count": 87,
   "id": "8f6edb5c",
   "metadata": {},
   "outputs": [],
   "source": [
    "code = 'AQC1gOlyEtTosL10ZARIlvfxd8vIQOPyYZLqd1IbQF2XI5-3AE6dB2lvirBOAmtsZ0UMNYT7HZpgj-vC49o7WEOOSXUoyn3CwBNeIOhav0Ih4yJOe4jSwaeF1AnS5-hbrdyMCYrsy_dd9CZBS6yLnascHODopixDVtZRbApKhwf71YiXjlg6mGqOTYfux0h3JVNwkHdBGCaT7HNsoe1_RVU4QtlfxcZ6pTCAOHx6Sv3HylIvFqoc6ejR-hKsHQ'"
   ]
  },
  {
   "cell_type": "markdown",
   "id": "49d6f3ae",
   "metadata": {},
   "source": [
    "Creating variables and dicts to hold request info"
   ]
  },
  {
   "cell_type": "code",
   "execution_count": 88,
   "id": "ea932071",
   "metadata": {},
   "outputs": [],
   "source": [
    "token_url = \"https://accounts.spotify.com/api/token\"\n",
    "token_data = {\n",
    "    'grant_type':'authorization_code',\n",
    "    'code': code,\n",
    "    'redirect_uri': 'http://127.0.0.1:5000/' # running the get_code.py program locally\n",
    "}\n",
    "token_headers = {\n",
    "    # \"Authorization\": f\"Basic {encoded_client_creds}\"\n",
    "    'Authorization': f'Basic {auth_header.decode(\"ascii\")}' # or just encoded_client_creds here\n",
    "}"
   ]
  },
  {
   "cell_type": "markdown",
   "id": "56445d97",
   "metadata": {},
   "source": [
    "Sending POST request to obtain token and saving to token_response_data"
   ]
  },
  {
   "cell_type": "code",
   "execution_count": 89,
   "id": "b0279eeb",
   "metadata": {
    "scrolled": false
   },
   "outputs": [
    {
     "name": "stdout",
     "output_type": "stream",
     "text": [
      "{'access_token': 'BQAqu7mfGa7bToo9Gg8nXiZJBzSRkgh3kH6rzvHEcPJOLVUGOJHeNKTEvOFVpxXBZDBJuXw3Dn_Qa116iTkwGnnGpdMlNw2fnGPzuZ0EhfcFn7f11WoSmtFskQWZWPcxO4mPwigfBlrHzr90fT717xUY1lIXTvToSiD6qMTUFXecv4XdZ5LKD7E2WjQewGS0WDFZKHJM8PRFCoa-S8sSy9dItv1DGzkdZ4IoPbCm9SBfdTnabc3L2bMNuv3JDWTEpFtOMdsC5j2yOg', 'token_type': 'Bearer', 'expires_in': 3600, 'refresh_token': 'AQAtBV12YsQRYe9YzvViWzmLCQHm1myXgvNWTteGtJ-Y51-GvNIwa2xrZOr-Tn6_aGOh1yVbHoGqaHGSi4e-pCq7un_040DcsOIXqG1djNDdVQMRCdZZ0Vpz9lrO36ge6OY', 'scope': 'user-library-read playlist-modify-private playlist-modify-public'}\n"
     ]
    }
   ],
   "source": [
    "r = requests.post(token_url, data=token_data, headers=token_headers)\n",
    "print(r.json())\n",
    "token_response_data = r.json()"
   ]
  },
  {
   "cell_type": "markdown",
   "id": "a1eb379c",
   "metadata": {},
   "source": [
    "Verifying that the access token can be accessed"
   ]
  },
  {
   "cell_type": "code",
   "execution_count": 90,
   "id": "dc122859",
   "metadata": {},
   "outputs": [
    {
     "data": {
      "text/plain": [
       "'BQAqu7mfGa7bToo9Gg8nXiZJBzSRkgh3kH6rzvHEcPJOLVUGOJHeNKTEvOFVpxXBZDBJuXw3Dn_Qa116iTkwGnnGpdMlNw2fnGPzuZ0EhfcFn7f11WoSmtFskQWZWPcxO4mPwigfBlrHzr90fT717xUY1lIXTvToSiD6qMTUFXecv4XdZ5LKD7E2WjQewGS0WDFZKHJM8PRFCoa-S8sSy9dItv1DGzkdZ4IoPbCm9SBfdTnabc3L2bMNuv3JDWTEpFtOMdsC5j2yOg'"
      ]
     },
     "execution_count": 90,
     "metadata": {},
     "output_type": "execute_result"
    }
   ],
   "source": [
    "token_response_data['access_token']"
   ]
  },
  {
   "cell_type": "markdown",
   "id": "26e51a50",
   "metadata": {},
   "source": [
    "Creating variables and dicts to hold playlist creation request info. Parameters can be found here https://developer.spotify.com/documentation/web-api/reference/create-playlist"
   ]
  },
  {
   "cell_type": "code",
   "execution_count": 15,
   "id": "abefa6ea",
   "metadata": {},
   "outputs": [],
   "source": [
    "user_id = 'jg5cbemqytn2p6s1xmvs87o8y' # substitute username as a string here\n",
    "playlist_url = f\"https://api.spotify.com/v1/users/{user_id}/playlists\"\n",
    "method = 'POST'\n",
    "token_headers = {\n",
    "    \"Authorization\": f\"Bearer {token_response_data['access_token']}\",\n",
    "    \"Content-Type\": 'application/json'\n",
    "}\n",
    "token_data = { # stuff about the playlist\n",
    "    \"name\": \"super swag music\", \n",
    "    \"description\": \"Test playlist description\", \n",
    "    \"public\": False\n",
    "}"
   ]
  },
  {
   "cell_type": "markdown",
   "id": "f9a5d463",
   "metadata": {},
   "source": [
    "Running this cell creates a new playlist!"
   ]
  },
  {
   "cell_type": "code",
   "execution_count": 16,
   "id": "fe737757",
   "metadata": {},
   "outputs": [
    {
     "name": "stdout",
     "output_type": "stream",
     "text": [
      "{'collaborative': False, 'description': None, 'external_urls': {'spotify': 'https://open.spotify.com/playlist/3V1QsNqXuKjog9C6NSPnxn'}, 'followers': {'href': None, 'total': 0}, 'href': 'https://api.spotify.com/v1/playlists/3V1QsNqXuKjog9C6NSPnxn', 'id': '3V1QsNqXuKjog9C6NSPnxn', 'images': [], 'name': 'super swag music', 'owner': {'display_name': 'lauren sun', 'external_urls': {'spotify': 'https://open.spotify.com/user/jg5cbemqytn2p6s1xmvs87o8y'}, 'href': 'https://api.spotify.com/v1/users/jg5cbemqytn2p6s1xmvs87o8y', 'id': 'jg5cbemqytn2p6s1xmvs87o8y', 'type': 'user', 'uri': 'spotify:user:jg5cbemqytn2p6s1xmvs87o8y'}, 'primary_color': None, 'public': False, 'snapshot_id': 'MSxmMTM4Mjc4YTE0NWZiZWM5NWEyZmVjNDMwZDZjNTBmMjNkNDcxYzcx', 'tracks': {'href': 'https://api.spotify.com/v1/playlists/3V1QsNqXuKjog9C6NSPnxn/tracks', 'items': [], 'limit': 100, 'next': None, 'offset': 0, 'previous': None, 'total': 0}, 'type': 'playlist', 'uri': 'spotify:playlist:3V1QsNqXuKjog9C6NSPnxn'}\n"
     ]
    }
   ],
   "source": [
    "r = requests.post(playlist_url, data=json.dumps(token_data), headers=token_headers)\n",
    "print(r.json())\n",
    "playlist_create_response = r.json()"
   ]
  },
  {
   "cell_type": "markdown",
   "id": "e0a937b6",
   "metadata": {},
   "source": [
    "# Adding Songs"
   ]
  },
  {
   "cell_type": "markdown",
   "id": "92e3fc17",
   "metadata": {},
   "source": [
    "Required parameters can be found here: https://developer.spotify.com/documentation/web-api/reference/add-tracks-to-playlist. Track ID is the string of characters obtained from right clicking a song > Share > Copy Song Link after \"track/\" and before \"?si=\""
   ]
  },
  {
   "cell_type": "code",
   "execution_count": 41,
   "id": "bb4ea827",
   "metadata": {},
   "outputs": [],
   "source": [
    "playlist_id = playlist_create_response['id']\n",
    "track_url = 'https://api.spotify.com/v1/playlists/' + playlist_id + '/tracks'\n",
    "\n",
    "headers = {\n",
    "    'Authorization': F\"Bearer {token_response_data['access_token']}\",\n",
    "    'Content-Type': 'application/json'\n",
    "}\n",
    "add_data = {\n",
    "    'uris': ['spotify:track:12O9MpMmewwdDkxZC9uqvS'],\n",
    "    \"position\": 0\n",
    "}"
   ]
  },
  {
   "cell_type": "markdown",
   "id": "b668e7da",
   "metadata": {},
   "source": [
    "Send a request to add \"Strange Weather\" by Slaughter Beach, Dog to this playlist"
   ]
  },
  {
   "cell_type": "code",
   "execution_count": 42,
   "id": "c0bd8d78",
   "metadata": {},
   "outputs": [
    {
     "name": "stdout",
     "output_type": "stream",
     "text": [
      "{'snapshot_id': 'NCxjNmY5Njk4NDU1ZmE2MTk2YzZkMDkxY2YxNDQ0NTY4Yzg1ZTgwYzE0'}\n"
     ]
    }
   ],
   "source": [
    "r = requests.post(track_url, data=json.dumps(add_data), headers=headers)\n",
    "print(r.json())\n",
    "add_track_response = r.json()"
   ]
  },
  {
   "cell_type": "markdown",
   "id": "cb929aea",
   "metadata": {},
   "source": [
    "# Retrieving Saved Songs"
   ]
  },
  {
   "cell_type": "markdown",
   "id": "4344928a",
   "metadata": {},
   "source": [
    "From https://developer.spotify.com/documentation/web-api/reference/get-users-saved-tracks. Make sure that in the get_code.py file, there's a user-library-read in the scope line."
   ]
  },
  {
   "cell_type": "code",
   "execution_count": 91,
   "id": "3f27b1f2",
   "metadata": {},
   "outputs": [],
   "source": [
    "method = 'GET'\n",
    "library_url = 'https://api.spotify.com/v1/me/tracks'\n",
    "headers = {\n",
    "    'Authorization': F\"Bearer {token_response_data['access_token']}\"\n",
    "}\n"
   ]
  },
  {
   "cell_type": "markdown",
   "id": "e3eb7d9b",
   "metadata": {},
   "source": [
    "Import songs 1 at a time into pandas df (API only retrieves 50 songs at once)"
   ]
  },
  {
   "cell_type": "code",
   "execution_count": 92,
   "id": "a6d30046",
   "metadata": {},
   "outputs": [],
   "source": [
    "saved_songs = requests.get(library_url, {\n",
    "            \"limit\": 50\n",
    "        },\n",
    "        headers=headers)"
   ]
  },
  {
   "cell_type": "code",
   "execution_count": 95,
   "id": "494658de",
   "metadata": {},
   "outputs": [
    {
     "data": {
      "text/plain": [
       "dict_keys(['href', 'items', 'limit', 'next', 'offset', 'previous', 'total'])"
      ]
     },
     "execution_count": 95,
     "metadata": {},
     "output_type": "execute_result"
    }
   ],
   "source": [
    "saved_songs.json().keys()"
   ]
  },
  {
   "cell_type": "code",
   "execution_count": 96,
   "id": "fce662d3",
   "metadata": {
    "scrolled": true
   },
   "outputs": [],
   "source": [
    "saved_songs = []\n",
    "for i in range(37):\n",
    "    saved_songs += requests.get(library_url, {\n",
    "            \"limit\": 50,\n",
    "            \"offset\": i*50\n",
    "        },\n",
    "        headers=headers).json()['items']"
   ]
  },
  {
   "cell_type": "markdown",
   "id": "a3f4878c",
   "metadata": {},
   "source": [
    "What does one entry look like?"
   ]
  },
  {
   "cell_type": "markdown",
   "id": "8721fae7",
   "metadata": {},
   "source": [
    "Iterate through each entry in `songs['items']` which really has all the song info. That song has `track` column, and that column's `id` column contains the id. "
   ]
  },
  {
   "cell_type": "code",
   "execution_count": 99,
   "id": "e219a24d",
   "metadata": {},
   "outputs": [],
   "source": [
    "saved_song_ids = [song['track']['id'] for song in saved_songs if not isinstance(song, float)]"
   ]
  },
  {
   "cell_type": "code",
   "execution_count": 101,
   "id": "d87ae50b",
   "metadata": {},
   "outputs": [],
   "source": [
    "file_path = 'saved_song_ids.txt'\n",
    "\n",
    "# save to file so i don't have to keep querying it\n",
    "with open(file_path, 'w') as f:\n",
    "    json.dump(saved_song_ids, f)"
   ]
  },
  {
   "cell_type": "markdown",
   "id": "129a2651",
   "metadata": {},
   "source": [
    "   # Retrieving Songs from Playlist"
   ]
  },
  {
   "cell_type": "markdown",
   "id": "9b38b8ff",
   "metadata": {},
   "source": [
    "proof of concept:"
   ]
  },
  {
   "cell_type": "code",
   "execution_count": 19,
   "id": "c1b66cd8",
   "metadata": {},
   "outputs": [],
   "source": [
    "playlist_id = '2aNrvgAphphQT8a9AsIjc2'\n",
    "playlist_url = f\"https://api.spotify.com/v1/playlists/{playlist_id}/tracks\"\n",
    "r = requests.get(playlist_url, {\n",
    "        'limit': 50 },\n",
    "        headers=headers)"
   ]
  },
  {
   "cell_type": "code",
   "execution_count": 27,
   "id": "a68e19ca",
   "metadata": {},
   "outputs": [
    {
     "name": "stdout",
     "output_type": "stream",
     "text": [
      "50\n",
      "<class 'dict'>\n"
     ]
    }
   ],
   "source": [
    "print(len(r.json()['items']))\n",
    "print(type(r.json()['items'][0]))"
   ]
  },
  {
   "cell_type": "markdown",
   "id": "59d49fa5",
   "metadata": {},
   "source": [
    "Each song is stored as a dictionary. Now get all 200+ songs from the i95 playlist"
   ]
  },
  {
   "cell_type": "code",
   "execution_count": 30,
   "id": "9e11d769",
   "metadata": {},
   "outputs": [],
   "source": [
    "i95songs = []\n",
    "for i in range (5):\n",
    "    i95songs += requests.get(playlist_url, {\n",
    "        'limit': 50,\n",
    "        'offset': i*50\n",
    "    }, headers=headers).json()['items']\n",
    "    "
   ]
  },
  {
   "cell_type": "code",
   "execution_count": 32,
   "id": "3feadde8",
   "metadata": {},
   "outputs": [
    {
     "data": {
      "text/plain": [
       "227"
      ]
     },
     "execution_count": 32,
     "metadata": {},
     "output_type": "execute_result"
    }
   ],
   "source": [
    "len(i95songs)"
   ]
  },
  {
   "cell_type": "markdown",
   "id": "985e30ab",
   "metadata": {},
   "source": [
    "All 227 songs saved as dictionaries in the i95 songs list. Isolate their IDs"
   ]
  },
  {
   "cell_type": "code",
   "execution_count": 40,
   "id": "35b1b333",
   "metadata": {},
   "outputs": [],
   "source": [
    "i95song_ids = [song['track']['id'] for song in i95songs if not isinstance(song, float)]"
   ]
  },
  {
   "cell_type": "code",
   "execution_count": 77,
   "id": "71a92fbc",
   "metadata": {},
   "outputs": [],
   "source": [
    "file_path = 'i95song_ids.txt'\n",
    "\n",
    "# save to file so i don't have to keep querying it\n",
    "with open(file_path, 'w') as f:\n",
    "    json.dump(i95song_ids, f)"
   ]
  },
  {
   "cell_type": "markdown",
   "id": "077595e4",
   "metadata": {},
   "source": [
    "## Get client_credentials access token"
   ]
  },
  {
   "cell_type": "markdown",
   "id": "1c910ef9",
   "metadata": {},
   "source": [
    "Need this b/c requesting data about the songs, not user data"
   ]
  },
  {
   "cell_type": "code",
   "execution_count": 102,
   "id": "b1ce3e38",
   "metadata": {},
   "outputs": [],
   "source": [
    "auth_header = base64.urlsafe_b64encode(f'{client_id}:{client_secret}'.encode('ascii'))\n",
    "token_url = \"https://accounts.spotify.com/api/token\"\n",
    "token_data = {\n",
    "    'grant_type':'client_credentials',\n",
    "    'code': code,\n",
    "    'redirect_uri': 'http://127.0.0.1:5000/' # running the get_code.py program locally\n",
    "}\n",
    "token_headers = {\n",
    "    # \"Authorization\": f\"Basic {encoded_client_creds}\"\n",
    "    'Authorization': f'Basic {auth_header.decode(\"ascii\")}' # or just encoded_client_creds here\n",
    "}"
   ]
  },
  {
   "cell_type": "code",
   "execution_count": 103,
   "id": "bccf8e5f",
   "metadata": {},
   "outputs": [
    {
     "name": "stdout",
     "output_type": "stream",
     "text": [
      "{'access_token': 'BQCHy-VFiv7uMtdpoqj9J1h6vNyHPb-tCD0Kjw7amVCzKPH5ckRKyj1uHsIcmX41n3emAHtMXNmXL1H6x_PLuzufmvFArJhXD0yvfYQadbrTqSTHEKo', 'token_type': 'Bearer', 'expires_in': 3600}\n"
     ]
    }
   ],
   "source": [
    "r = requests.post(token_url, data=token_data, headers=token_headers)\n",
    "print(r.json())\n",
    "token_response_data = r.json()"
   ]
  },
  {
   "cell_type": "markdown",
   "id": "60e88df7",
   "metadata": {},
   "source": [
    "Write the body of the request, now with the access token that has client_credentials permissions. Can't do the get request without switching to client_credentials"
   ]
  },
  {
   "cell_type": "code",
   "execution_count": 104,
   "id": "266e2fb5",
   "metadata": {},
   "outputs": [],
   "source": [
    "song_url = f\"https://api.spotify.com/v1/audio-features/{id}\"\n",
    "headers = {\n",
    "    'Authorization': F\"Bearer {token_response_data['access_token']}\",\n",
    "    'Content-Type': 'application/json'\n",
    "}"
   ]
  },
  {
   "cell_type": "code",
   "execution_count": 105,
   "id": "6c464808",
   "metadata": {
    "scrolled": true
   },
   "outputs": [
    {
     "data": {
      "text/plain": [
       "{'danceability': 0.387,\n",
       " 'energy': 0.497,\n",
       " 'key': 11,\n",
       " 'loudness': -7.124,\n",
       " 'mode': 1,\n",
       " 'speechiness': 0.0388,\n",
       " 'acousticness': 0.115,\n",
       " 'instrumentalness': 2.83e-05,\n",
       " 'liveness': 0.11,\n",
       " 'valence': 0.227,\n",
       " 'tempo': 167.66,\n",
       " 'type': 'audio_features',\n",
       " 'id': '2Kj95VOpBEJzBFNzwirZwU',\n",
       " 'uri': 'spotify:track:2Kj95VOpBEJzBFNzwirZwU',\n",
       " 'track_href': 'https://api.spotify.com/v1/tracks/2Kj95VOpBEJzBFNzwirZwU',\n",
       " 'analysis_url': 'https://api.spotify.com/v1/audio-analysis/2Kj95VOpBEJzBFNzwirZwU',\n",
       " 'duration_ms': 196250,\n",
       " 'time_signature': 4}"
      ]
     },
     "execution_count": 105,
     "metadata": {},
     "output_type": "execute_result"
    }
   ],
   "source": [
    "r = requests.get(f\"https://api.spotify.com/v1/audio-features/2Kj95VOpBEJzBFNzwirZwU\", headers=headers).json()\n",
    "r"
   ]
  },
  {
   "cell_type": "markdown",
   "id": "19a7a681",
   "metadata": {},
   "source": [
    "Format song ID's to feed into format needed for Several Track Audio Features API request"
   ]
  },
  {
   "cell_type": "code",
   "execution_count": 122,
   "id": "75b9e1f1",
   "metadata": {},
   "outputs": [],
   "source": [
    "# format song ids into comma separated strings\n",
    "saved_idstrings = []\n",
    "for i in range(18): # batches of 100 songs\n",
    "    idstring = \"\"\n",
    "    for j in range(0+i*100, i*100+100):\n",
    "        idstring+=saved_song_ids[j] + \",\"\n",
    "    idstring = idstring[:len(idstring)-1]\n",
    "    # trim off last comma\n",
    "    saved_idstrings.append(idstring)\n",
    "# make last batch; hard-code\n",
    "idstring = \"\"\n",
    "for j in range(1800, 1808):\n",
    "    idstring+=saved_song_ids[j] + \",\"\n",
    "idstring = idstring[:len(idstring)-1]\n",
    "saved_idstrings.append(idstring)"
   ]
  },
  {
   "cell_type": "code",
   "execution_count": 110,
   "id": "c8232324",
   "metadata": {},
   "outputs": [],
   "source": [
    "# format song ids into comma separated strings\n",
    "i95_idstrings = []\n",
    "for i in range(2): # batches of 100 songs\n",
    "    idstring = \"\"\n",
    "    for j in range(0+i*100, i*100+100):\n",
    "        idstring+=i95song_ids[j] + \",\"\n",
    "    idstring = idstring[:len(idstring)-1]\n",
    "    # trim off last comma\n",
    "    i95_idstrings.append(idstring)\n",
    "# make last batch; hard-code\n",
    "idstring = \"\"\n",
    "for j in range(200, 227):\n",
    "    idstring+=i95song_ids[j] + \",\"\n",
    "idstring = idstring[:len(idstring)-1]\n",
    "i95_idstrings.append(idstring)"
   ]
  },
  {
   "cell_type": "markdown",
   "id": "8078cd1f",
   "metadata": {},
   "source": [
    "got the first 200 songs from the playlist"
   ]
  },
  {
   "cell_type": "code",
   "execution_count": 112,
   "id": "9655e2cf",
   "metadata": {},
   "outputs": [
    {
     "name": "stdout",
     "output_type": "stream",
     "text": [
      "18 3\n"
     ]
    }
   ],
   "source": [
    "print(len(saved_idstrings), len(i95_idstrings))"
   ]
  },
  {
   "cell_type": "markdown",
   "id": "1e979f73",
   "metadata": {},
   "source": [
    "Proof of concept: try just 1st batch"
   ]
  },
  {
   "cell_type": "code",
   "execution_count": 113,
   "id": "e016dce4",
   "metadata": {},
   "outputs": [],
   "source": [
    "features_url = \"https://api.spotify.com/v1/audio-features\"\n",
    "r = requests.get(features_url, {\n",
    "        'ids': saved_idstrings[0]},\n",
    "        headers=headers).json()"
   ]
  },
  {
   "cell_type": "code",
   "execution_count": 114,
   "id": "78eeb1fd",
   "metadata": {},
   "outputs": [
    {
     "name": "stdout",
     "output_type": "stream",
     "text": [
      "dict_keys(['audio_features'])\n",
      "{'danceability': 0.946, 'energy': 0.289, 'key': 11, 'loudness': -9.413, 'mode': 1, 'speechiness': 0.0584, 'acousticness': 0.152, 'instrumentalness': 2e-05, 'liveness': 0.234, 'valence': 0.816, 'tempo': 102.073, 'type': 'audio_features', 'id': '4KqBoq7MoDJeVsvUHTjXCM', 'uri': 'spotify:track:4KqBoq7MoDJeVsvUHTjXCM', 'track_href': 'https://api.spotify.com/v1/tracks/4KqBoq7MoDJeVsvUHTjXCM', 'analysis_url': 'https://api.spotify.com/v1/audio-analysis/4KqBoq7MoDJeVsvUHTjXCM', 'duration_ms': 129627, 'time_signature': 4}\n",
      "100\n"
     ]
    }
   ],
   "source": [
    "print(r.keys())\n",
    "print(r['audio_features'][0])\n",
    "print(len(r['audio_features']))"
   ]
  },
  {
   "cell_type": "markdown",
   "id": "a8a23016",
   "metadata": {},
   "source": [
    "Do all saved songs"
   ]
  },
  {
   "cell_type": "code",
   "execution_count": 125,
   "id": "4228565c",
   "metadata": {},
   "outputs": [],
   "source": [
    "saved_feature_dicts = []\n",
    "for i in range(19):\n",
    "    saved_feature_dicts += requests.get(features_url, {\n",
    "        'ids': saved_idstrings[i]},\n",
    "        headers=headers).json()['audio_features']"
   ]
  },
  {
   "cell_type": "code",
   "execution_count": 126,
   "id": "e035c71c",
   "metadata": {},
   "outputs": [
    {
     "data": {
      "text/plain": [
       "1808"
      ]
     },
     "execution_count": 126,
     "metadata": {},
     "output_type": "execute_result"
    }
   ],
   "source": [
    "len(saved_feature_dicts)"
   ]
  },
  {
   "cell_type": "code",
   "execution_count": 127,
   "id": "12b4e67d",
   "metadata": {},
   "outputs": [],
   "source": [
    "file_path = 'saved_features.txt'\n",
    "\n",
    "# save to file so i don't have to keep querying it\n",
    "with open(file_path, 'w') as f:\n",
    "    json.dump(saved_feature_dicts, f)"
   ]
  },
  {
   "cell_type": "markdown",
   "id": "2fbe60d3",
   "metadata": {},
   "source": [
    "Do all i95 songs"
   ]
  },
  {
   "cell_type": "code",
   "execution_count": 118,
   "id": "8ee7a618",
   "metadata": {},
   "outputs": [],
   "source": [
    "i95_feature_dicts = []\n",
    "for i in range(3):\n",
    "    i95_feature_dicts += requests.get(features_url, {\n",
    "        'ids': i95_idstrings[i]},\n",
    "        headers=headers).json()['audio_features']"
   ]
  },
  {
   "cell_type": "code",
   "execution_count": 119,
   "id": "e026f0e8",
   "metadata": {},
   "outputs": [
    {
     "data": {
      "text/plain": [
       "227"
      ]
     },
     "execution_count": 119,
     "metadata": {},
     "output_type": "execute_result"
    }
   ],
   "source": [
    "len(i95_feature_dicts)"
   ]
  },
  {
   "cell_type": "code",
   "execution_count": 121,
   "id": "33f7542a",
   "metadata": {},
   "outputs": [],
   "source": [
    "file_path = 'i95_features.txt'\n",
    "\n",
    "# save to file so i don't have to keep querying it\n",
    "with open(file_path, 'w') as f:\n",
    "    json.dump(i95_feature_dicts, f)"
   ]
  },
  {
   "cell_type": "markdown",
   "id": "eacbbda4",
   "metadata": {},
   "source": [
    "# Analyze audio features of all my songs vs songs in i95"
   ]
  },
  {
   "cell_type": "code",
   "execution_count": 129,
   "id": "fa55db01",
   "metadata": {
    "scrolled": true
   },
   "outputs": [
    {
     "data": {
      "text/html": [
       "<div>\n",
       "<style scoped>\n",
       "    .dataframe tbody tr th:only-of-type {\n",
       "        vertical-align: middle;\n",
       "    }\n",
       "\n",
       "    .dataframe tbody tr th {\n",
       "        vertical-align: top;\n",
       "    }\n",
       "\n",
       "    .dataframe thead th {\n",
       "        text-align: right;\n",
       "    }\n",
       "</style>\n",
       "<table border=\"1\" class=\"dataframe\">\n",
       "  <thead>\n",
       "    <tr style=\"text-align: right;\">\n",
       "      <th></th>\n",
       "      <th>danceability</th>\n",
       "      <th>energy</th>\n",
       "      <th>key</th>\n",
       "      <th>loudness</th>\n",
       "      <th>mode</th>\n",
       "      <th>speechiness</th>\n",
       "      <th>acousticness</th>\n",
       "      <th>instrumentalness</th>\n",
       "      <th>liveness</th>\n",
       "      <th>valence</th>\n",
       "      <th>tempo</th>\n",
       "      <th>type</th>\n",
       "      <th>id</th>\n",
       "      <th>uri</th>\n",
       "      <th>track_href</th>\n",
       "      <th>analysis_url</th>\n",
       "      <th>duration_ms</th>\n",
       "      <th>time_signature</th>\n",
       "    </tr>\n",
       "  </thead>\n",
       "  <tbody>\n",
       "    <tr>\n",
       "      <th>0</th>\n",
       "      <td>0.946</td>\n",
       "      <td>0.289</td>\n",
       "      <td>11</td>\n",
       "      <td>-9.413</td>\n",
       "      <td>1</td>\n",
       "      <td>0.0584</td>\n",
       "      <td>0.152</td>\n",
       "      <td>0.000020</td>\n",
       "      <td>0.234</td>\n",
       "      <td>0.816</td>\n",
       "      <td>102.073</td>\n",
       "      <td>audio_features</td>\n",
       "      <td>4KqBoq7MoDJeVsvUHTjXCM</td>\n",
       "      <td>spotify:track:4KqBoq7MoDJeVsvUHTjXCM</td>\n",
       "      <td>https://api.spotify.com/v1/tracks/4KqBoq7MoDJe...</td>\n",
       "      <td>https://api.spotify.com/v1/audio-analysis/4KqB...</td>\n",
       "      <td>129627</td>\n",
       "      <td>4</td>\n",
       "    </tr>\n",
       "    <tr>\n",
       "      <th>1</th>\n",
       "      <td>0.456</td>\n",
       "      <td>0.660</td>\n",
       "      <td>9</td>\n",
       "      <td>-9.254</td>\n",
       "      <td>1</td>\n",
       "      <td>0.0377</td>\n",
       "      <td>0.383</td>\n",
       "      <td>0.660000</td>\n",
       "      <td>0.113</td>\n",
       "      <td>0.527</td>\n",
       "      <td>113.670</td>\n",
       "      <td>audio_features</td>\n",
       "      <td>5lDoRJ2vW6G4YXeUciQd3R</td>\n",
       "      <td>spotify:track:5lDoRJ2vW6G4YXeUciQd3R</td>\n",
       "      <td>https://api.spotify.com/v1/tracks/5lDoRJ2vW6G4...</td>\n",
       "      <td>https://api.spotify.com/v1/audio-analysis/5lDo...</td>\n",
       "      <td>227587</td>\n",
       "      <td>4</td>\n",
       "    </tr>\n",
       "    <tr>\n",
       "      <th>2</th>\n",
       "      <td>0.559</td>\n",
       "      <td>0.661</td>\n",
       "      <td>7</td>\n",
       "      <td>-8.769</td>\n",
       "      <td>1</td>\n",
       "      <td>0.0323</td>\n",
       "      <td>0.578</td>\n",
       "      <td>0.000000</td>\n",
       "      <td>0.376</td>\n",
       "      <td>0.862</td>\n",
       "      <td>162.935</td>\n",
       "      <td>audio_features</td>\n",
       "      <td>2gzY74wkSgo1ts1IZbjxfT</td>\n",
       "      <td>spotify:track:2gzY74wkSgo1ts1IZbjxfT</td>\n",
       "      <td>https://api.spotify.com/v1/tracks/2gzY74wkSgo1...</td>\n",
       "      <td>https://api.spotify.com/v1/audio-analysis/2gzY...</td>\n",
       "      <td>170640</td>\n",
       "      <td>4</td>\n",
       "    </tr>\n",
       "    <tr>\n",
       "      <th>3</th>\n",
       "      <td>0.573</td>\n",
       "      <td>0.388</td>\n",
       "      <td>7</td>\n",
       "      <td>-13.922</td>\n",
       "      <td>1</td>\n",
       "      <td>0.0269</td>\n",
       "      <td>0.218</td>\n",
       "      <td>0.001270</td>\n",
       "      <td>0.110</td>\n",
       "      <td>0.806</td>\n",
       "      <td>105.825</td>\n",
       "      <td>audio_features</td>\n",
       "      <td>7w1OJlqxiRxnC4ct8yNN1n</td>\n",
       "      <td>spotify:track:7w1OJlqxiRxnC4ct8yNN1n</td>\n",
       "      <td>https://api.spotify.com/v1/tracks/7w1OJlqxiRxn...</td>\n",
       "      <td>https://api.spotify.com/v1/audio-analysis/7w1O...</td>\n",
       "      <td>177867</td>\n",
       "      <td>4</td>\n",
       "    </tr>\n",
       "    <tr>\n",
       "      <th>4</th>\n",
       "      <td>0.377</td>\n",
       "      <td>0.666</td>\n",
       "      <td>2</td>\n",
       "      <td>-8.066</td>\n",
       "      <td>1</td>\n",
       "      <td>0.0314</td>\n",
       "      <td>0.158</td>\n",
       "      <td>0.000621</td>\n",
       "      <td>0.339</td>\n",
       "      <td>0.637</td>\n",
       "      <td>122.146</td>\n",
       "      <td>audio_features</td>\n",
       "      <td>1mpv6hIbfG75txI9zJGcf4</td>\n",
       "      <td>spotify:track:1mpv6hIbfG75txI9zJGcf4</td>\n",
       "      <td>https://api.spotify.com/v1/tracks/1mpv6hIbfG75...</td>\n",
       "      <td>https://api.spotify.com/v1/audio-analysis/1mpv...</td>\n",
       "      <td>210467</td>\n",
       "      <td>4</td>\n",
       "    </tr>\n",
       "  </tbody>\n",
       "</table>\n",
       "</div>"
      ],
      "text/plain": [
       "   danceability  energy  key  loudness  mode  speechiness  acousticness  \\\n",
       "0         0.946   0.289   11    -9.413     1       0.0584         0.152   \n",
       "1         0.456   0.660    9    -9.254     1       0.0377         0.383   \n",
       "2         0.559   0.661    7    -8.769     1       0.0323         0.578   \n",
       "3         0.573   0.388    7   -13.922     1       0.0269         0.218   \n",
       "4         0.377   0.666    2    -8.066     1       0.0314         0.158   \n",
       "\n",
       "   instrumentalness  liveness  valence    tempo            type  \\\n",
       "0          0.000020     0.234    0.816  102.073  audio_features   \n",
       "1          0.660000     0.113    0.527  113.670  audio_features   \n",
       "2          0.000000     0.376    0.862  162.935  audio_features   \n",
       "3          0.001270     0.110    0.806  105.825  audio_features   \n",
       "4          0.000621     0.339    0.637  122.146  audio_features   \n",
       "\n",
       "                       id                                   uri  \\\n",
       "0  4KqBoq7MoDJeVsvUHTjXCM  spotify:track:4KqBoq7MoDJeVsvUHTjXCM   \n",
       "1  5lDoRJ2vW6G4YXeUciQd3R  spotify:track:5lDoRJ2vW6G4YXeUciQd3R   \n",
       "2  2gzY74wkSgo1ts1IZbjxfT  spotify:track:2gzY74wkSgo1ts1IZbjxfT   \n",
       "3  7w1OJlqxiRxnC4ct8yNN1n  spotify:track:7w1OJlqxiRxnC4ct8yNN1n   \n",
       "4  1mpv6hIbfG75txI9zJGcf4  spotify:track:1mpv6hIbfG75txI9zJGcf4   \n",
       "\n",
       "                                          track_href  \\\n",
       "0  https://api.spotify.com/v1/tracks/4KqBoq7MoDJe...   \n",
       "1  https://api.spotify.com/v1/tracks/5lDoRJ2vW6G4...   \n",
       "2  https://api.spotify.com/v1/tracks/2gzY74wkSgo1...   \n",
       "3  https://api.spotify.com/v1/tracks/7w1OJlqxiRxn...   \n",
       "4  https://api.spotify.com/v1/tracks/1mpv6hIbfG75...   \n",
       "\n",
       "                                        analysis_url  duration_ms  \\\n",
       "0  https://api.spotify.com/v1/audio-analysis/4KqB...       129627   \n",
       "1  https://api.spotify.com/v1/audio-analysis/5lDo...       227587   \n",
       "2  https://api.spotify.com/v1/audio-analysis/2gzY...       170640   \n",
       "3  https://api.spotify.com/v1/audio-analysis/7w1O...       177867   \n",
       "4  https://api.spotify.com/v1/audio-analysis/1mpv...       210467   \n",
       "\n",
       "   time_signature  \n",
       "0               4  \n",
       "1               4  \n",
       "2               4  \n",
       "3               4  \n",
       "4               4  "
      ]
     },
     "execution_count": 129,
     "metadata": {},
     "output_type": "execute_result"
    }
   ],
   "source": [
    "saved_af = pd.DataFrame(saved_feature_dicts)\n",
    "saved_af.head()"
   ]
  },
  {
   "cell_type": "code",
   "execution_count": 130,
   "id": "e960acde",
   "metadata": {},
   "outputs": [
    {
     "data": {
      "text/html": [
       "<div>\n",
       "<style scoped>\n",
       "    .dataframe tbody tr th:only-of-type {\n",
       "        vertical-align: middle;\n",
       "    }\n",
       "\n",
       "    .dataframe tbody tr th {\n",
       "        vertical-align: top;\n",
       "    }\n",
       "\n",
       "    .dataframe thead th {\n",
       "        text-align: right;\n",
       "    }\n",
       "</style>\n",
       "<table border=\"1\" class=\"dataframe\">\n",
       "  <thead>\n",
       "    <tr style=\"text-align: right;\">\n",
       "      <th></th>\n",
       "      <th>danceability</th>\n",
       "      <th>energy</th>\n",
       "      <th>key</th>\n",
       "      <th>loudness</th>\n",
       "      <th>mode</th>\n",
       "      <th>speechiness</th>\n",
       "      <th>acousticness</th>\n",
       "      <th>instrumentalness</th>\n",
       "      <th>liveness</th>\n",
       "      <th>valence</th>\n",
       "      <th>tempo</th>\n",
       "      <th>type</th>\n",
       "      <th>id</th>\n",
       "      <th>uri</th>\n",
       "      <th>track_href</th>\n",
       "      <th>analysis_url</th>\n",
       "      <th>duration_ms</th>\n",
       "      <th>time_signature</th>\n",
       "    </tr>\n",
       "  </thead>\n",
       "  <tbody>\n",
       "    <tr>\n",
       "      <th>0</th>\n",
       "      <td>0.593</td>\n",
       "      <td>0.807</td>\n",
       "      <td>2</td>\n",
       "      <td>-7.995</td>\n",
       "      <td>1</td>\n",
       "      <td>0.0371</td>\n",
       "      <td>0.000125</td>\n",
       "      <td>0.000210</td>\n",
       "      <td>0.0914</td>\n",
       "      <td>0.521</td>\n",
       "      <td>116.077</td>\n",
       "      <td>audio_features</td>\n",
       "      <td>1AEiKr56njftNDp67QCnHH</td>\n",
       "      <td>spotify:track:1AEiKr56njftNDp67QCnHH</td>\n",
       "      <td>https://api.spotify.com/v1/tracks/1AEiKr56njft...</td>\n",
       "      <td>https://api.spotify.com/v1/audio-analysis/1AEi...</td>\n",
       "      <td>216787</td>\n",
       "      <td>4</td>\n",
       "    </tr>\n",
       "    <tr>\n",
       "      <th>1</th>\n",
       "      <td>0.565</td>\n",
       "      <td>0.718</td>\n",
       "      <td>10</td>\n",
       "      <td>-8.428</td>\n",
       "      <td>1</td>\n",
       "      <td>0.0281</td>\n",
       "      <td>0.002270</td>\n",
       "      <td>0.000086</td>\n",
       "      <td>0.0812</td>\n",
       "      <td>0.509</td>\n",
       "      <td>85.433</td>\n",
       "      <td>audio_features</td>\n",
       "      <td>7yIoiP1spudd0cuRL6NB9E</td>\n",
       "      <td>spotify:track:7yIoiP1spudd0cuRL6NB9E</td>\n",
       "      <td>https://api.spotify.com/v1/tracks/7yIoiP1spudd...</td>\n",
       "      <td>https://api.spotify.com/v1/audio-analysis/7yIo...</td>\n",
       "      <td>244360</td>\n",
       "      <td>4</td>\n",
       "    </tr>\n",
       "    <tr>\n",
       "      <th>2</th>\n",
       "      <td>0.302</td>\n",
       "      <td>0.705</td>\n",
       "      <td>9</td>\n",
       "      <td>-7.061</td>\n",
       "      <td>1</td>\n",
       "      <td>0.0297</td>\n",
       "      <td>0.091300</td>\n",
       "      <td>0.022700</td>\n",
       "      <td>0.0976</td>\n",
       "      <td>0.865</td>\n",
       "      <td>173.289</td>\n",
       "      <td>audio_features</td>\n",
       "      <td>4zdEcOj9IEAE1cWG7zzYxB</td>\n",
       "      <td>spotify:track:4zdEcOj9IEAE1cWG7zzYxB</td>\n",
       "      <td>https://api.spotify.com/v1/tracks/4zdEcOj9IEAE...</td>\n",
       "      <td>https://api.spotify.com/v1/audio-analysis/4zdE...</td>\n",
       "      <td>229843</td>\n",
       "      <td>4</td>\n",
       "    </tr>\n",
       "    <tr>\n",
       "      <th>3</th>\n",
       "      <td>0.408</td>\n",
       "      <td>0.666</td>\n",
       "      <td>7</td>\n",
       "      <td>-6.286</td>\n",
       "      <td>1</td>\n",
       "      <td>0.0578</td>\n",
       "      <td>0.000455</td>\n",
       "      <td>0.862000</td>\n",
       "      <td>0.0889</td>\n",
       "      <td>0.666</td>\n",
       "      <td>82.523</td>\n",
       "      <td>audio_features</td>\n",
       "      <td>0OM9ri37LIbPc9hffwsyb1</td>\n",
       "      <td>spotify:track:0OM9ri37LIbPc9hffwsyb1</td>\n",
       "      <td>https://api.spotify.com/v1/tracks/0OM9ri37LIbP...</td>\n",
       "      <td>https://api.spotify.com/v1/audio-analysis/0OM9...</td>\n",
       "      <td>224333</td>\n",
       "      <td>4</td>\n",
       "    </tr>\n",
       "    <tr>\n",
       "      <th>4</th>\n",
       "      <td>0.620</td>\n",
       "      <td>0.593</td>\n",
       "      <td>7</td>\n",
       "      <td>-10.985</td>\n",
       "      <td>1</td>\n",
       "      <td>0.0281</td>\n",
       "      <td>0.294000</td>\n",
       "      <td>0.000000</td>\n",
       "      <td>0.0749</td>\n",
       "      <td>0.833</td>\n",
       "      <td>109.044</td>\n",
       "      <td>audio_features</td>\n",
       "      <td>4SPi5Pl7aAtauFsH9Lk5LB</td>\n",
       "      <td>spotify:track:4SPi5Pl7aAtauFsH9Lk5LB</td>\n",
       "      <td>https://api.spotify.com/v1/tracks/4SPi5Pl7aAta...</td>\n",
       "      <td>https://api.spotify.com/v1/audio-analysis/4SPi...</td>\n",
       "      <td>234907</td>\n",
       "      <td>4</td>\n",
       "    </tr>\n",
       "  </tbody>\n",
       "</table>\n",
       "</div>"
      ],
      "text/plain": [
       "   danceability  energy  key  loudness  mode  speechiness  acousticness  \\\n",
       "0         0.593   0.807    2    -7.995     1       0.0371      0.000125   \n",
       "1         0.565   0.718   10    -8.428     1       0.0281      0.002270   \n",
       "2         0.302   0.705    9    -7.061     1       0.0297      0.091300   \n",
       "3         0.408   0.666    7    -6.286     1       0.0578      0.000455   \n",
       "4         0.620   0.593    7   -10.985     1       0.0281      0.294000   \n",
       "\n",
       "   instrumentalness  liveness  valence    tempo            type  \\\n",
       "0          0.000210    0.0914    0.521  116.077  audio_features   \n",
       "1          0.000086    0.0812    0.509   85.433  audio_features   \n",
       "2          0.022700    0.0976    0.865  173.289  audio_features   \n",
       "3          0.862000    0.0889    0.666   82.523  audio_features   \n",
       "4          0.000000    0.0749    0.833  109.044  audio_features   \n",
       "\n",
       "                       id                                   uri  \\\n",
       "0  1AEiKr56njftNDp67QCnHH  spotify:track:1AEiKr56njftNDp67QCnHH   \n",
       "1  7yIoiP1spudd0cuRL6NB9E  spotify:track:7yIoiP1spudd0cuRL6NB9E   \n",
       "2  4zdEcOj9IEAE1cWG7zzYxB  spotify:track:4zdEcOj9IEAE1cWG7zzYxB   \n",
       "3  0OM9ri37LIbPc9hffwsyb1  spotify:track:0OM9ri37LIbPc9hffwsyb1   \n",
       "4  4SPi5Pl7aAtauFsH9Lk5LB  spotify:track:4SPi5Pl7aAtauFsH9Lk5LB   \n",
       "\n",
       "                                          track_href  \\\n",
       "0  https://api.spotify.com/v1/tracks/1AEiKr56njft...   \n",
       "1  https://api.spotify.com/v1/tracks/7yIoiP1spudd...   \n",
       "2  https://api.spotify.com/v1/tracks/4zdEcOj9IEAE...   \n",
       "3  https://api.spotify.com/v1/tracks/0OM9ri37LIbP...   \n",
       "4  https://api.spotify.com/v1/tracks/4SPi5Pl7aAta...   \n",
       "\n",
       "                                        analysis_url  duration_ms  \\\n",
       "0  https://api.spotify.com/v1/audio-analysis/1AEi...       216787   \n",
       "1  https://api.spotify.com/v1/audio-analysis/7yIo...       244360   \n",
       "2  https://api.spotify.com/v1/audio-analysis/4zdE...       229843   \n",
       "3  https://api.spotify.com/v1/audio-analysis/0OM9...       224333   \n",
       "4  https://api.spotify.com/v1/audio-analysis/4SPi...       234907   \n",
       "\n",
       "   time_signature  \n",
       "0               4  \n",
       "1               4  \n",
       "2               4  \n",
       "3               4  \n",
       "4               4  "
      ]
     },
     "execution_count": 130,
     "metadata": {},
     "output_type": "execute_result"
    }
   ],
   "source": [
    "i95_af = pd.DataFrame(i95_feature_dicts)\n",
    "i95_af.head()"
   ]
  },
  {
   "cell_type": "code",
   "execution_count": 131,
   "id": "81a6be06",
   "metadata": {},
   "outputs": [],
   "source": [
    "import matplotlib.pyplot as plt"
   ]
  },
  {
   "cell_type": "code",
   "execution_count": 133,
   "id": "0bffd9b2",
   "metadata": {
    "scrolled": false
   },
   "outputs": [
    {
     "data": {
      "image/png": "[encoded data removed]",
      "text/plain": [
       "<Figure size 1000x600 with 8 Axes>"
      ]
     },
     "metadata": {},
     "output_type": "display_data"
    }
   ],
   "source": [
    "fig, axes = plt.subplots(nrows=2, ncols=4, figsize=(10, 6))\n",
    "saved_af['danceability'].plot.hist(ax=axes[0, 0], bins=20)\n",
    "axes[0,0].set_title('Saved Songs Danceability')\n",
    "saved_af['energy'].plot.hist(ax=axes[0, 1], bins=20)\n",
    "axes[0,1].set_title('Saved Songs Energy')\n",
    "saved_af['loudness'].plot.hist(ax=axes[0, 2], bins=20)\n",
    "axes[0, 2].set_title('Saved Songs Loudness')\n",
    "saved_af['instrumentalness'].plot.hist(ax=axes[0, 3], bins=20)\n",
    "axes[0, 3].set_title('Saved Songs Instrumentalness')\n",
    "\n",
    "i95_af['danceability'].plot.hist(ax=axes[1, 0], bins=20)\n",
    "axes[1,0].set_title('i95 Songs Danceability')\n",
    "i95_af['energy'].plot.hist(ax=axes[1, 1], bins=20)\n",
    "axes[1,1].set_title('i95 Songs Energy')\n",
    "i95_af['loudness'].plot.hist(ax=axes[1, 2], bins=20)\n",
    "axes[1, 2].set_title('i95 Songs Loudness')\n",
    "i95_af['instrumentalness'].plot.hist(ax=axes[1, 3], bins=20)\n",
    "axes[1, 3].set_title('i95 Songs Instrumentalness')\n",
    "\n",
    "plt.tight_layout()"
   ]
  },
  {
   "cell_type": "code",
   "execution_count": null,
   "id": "57ebd7d2",
   "metadata": {},
   "outputs": [],
   "source": []
  }
 ],
 "metadata": {
  "kernelspec": {
   "display_name": "Python 3 (ipykernel)",
   "language": "python",
   "name": "python3"
  },
  "language_info": {
   "codemirror_mode": {
    "name": "ipython",
    "version": 3
   },
   "file_extension": ".py",
   "mimetype": "text/x-python",
   "name": "python",
   "nbconvert_exporter": "python",
   "pygments_lexer": "ipython3",
   "version": "3.9.12"
  }
 },
 "nbformat": 4,
 "nbformat_minor": 5
}
